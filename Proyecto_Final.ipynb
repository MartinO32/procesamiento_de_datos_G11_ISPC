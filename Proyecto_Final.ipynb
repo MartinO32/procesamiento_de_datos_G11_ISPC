{
 "cells": [
  {
   "attachments": {},
   "cell_type": "markdown",
   "id": "54ac62ae",
   "metadata": {},
   "source": [
    "\n",
    "<div align=\"center\">\n",
    "    <img src=\"image/foto_portada.jpg\" alt=\"Tres personas catando vinos.\" style=\"width: 600px; height: 300px; border-radius: 10px;\">\n",
    "    <h1 style=\"font-family: Arial, sans-serif; font-size: 32px; font-weight: bold; margin-top: 20px; text-align: center;\">Explorando la calidad del vino</h1>\n",
    "    <h2 style=\"font-family: Arial, sans-serif; font-size: 20px; font-weight: normal; text-align: center;\">Una aproximación a través de técnicas de procesamiento de datos</h2>\n",
    "</div>\n"
   ]
  },
  {
   "attachments": {},
   "cell_type": "markdown",
   "id": "5b3d5f1e",
   "metadata": {},
   "source": [
    "<br>El objetivo de este trabajo es establecer, por medio de técnicas de procesamiento de datos, las variables más influyentes en la calidad sensorial del vino.<br> \n",
    "Se analiza una variable dependiente (calidad) y diez variables independientes: acidez volátil, ácido cítrico, azúcar residual, cloruros, dióxido de azufre libre, dióxido de azufre total, densidad, pH, sulfatos, y alcohol.<br>\n",
    "Utilizaremos dos datasets enfocados en la calidad de vinos. Ambos se relacionan a las variantes de vino blanco y vino rojo del vino portugués \"Vinho Verde\".\n",
    "La fuente de los mismos son del Machine Learning Repository de UCI. Puedes conocer más de ellos [aquí](https://archive.ics.uci.edu/dataset/186/wine+quality)."
   ]
  },
  {
   "attachments": {},
   "cell_type": "markdown",
   "id": "733358c5",
   "metadata": {},
   "source": [
    " # 1.  Recolección y preparación de datos\n",
    "### Limpieza, integración y transformación necesarias para preparar los datos para el análisis"
   ]
  },
  {
   "attachments": {},
   "cell_type": "markdown",
   "id": "2930546e",
   "metadata": {},
   "source": [
    " - Carga de datos"
   ]
  },
  {
   "cell_type": "code",
   "execution_count": null,
   "id": "e6827c85",
   "metadata": {},
   "outputs": [],
   "source": [
    "import pandas as pd\n"
   ]
  },
  {
   "cell_type": "code",
   "execution_count": null,
   "id": "2bbd3670",
   "metadata": {},
   "outputs": [],
   "source": [
    "#importacion\n",
    "tablas = ['winequality-red.csv',\n",
    "          'winequality-white.csv']\n",
    "\n",
    "archivos = []\n",
    "\n",
    "ruta_data = 'data'  # Ruta relativa a la carpeta \"data\"\n",
    "\n",
    "for t in tablas:\n",
    "    ruta_archivo = f'{ruta_data}/{t}'\n",
    "    datos = pd.read_csv(ruta_archivo,\n",
    "                        sep = ';',\n",
    "                        encoding='latin-1',\n",
    "                        low_memory=False)\n",
    "    archivos.append(datos)\n",
    "\n",
    "vino_tinto,vino_blanco = archivos[:2]\n"
   ]
  },
  {
   "attachments": {},
   "cell_type": "markdown",
   "id": "6d7927d2",
   "metadata": {},
   "source": [
    "- Exploración inicial para preparar los datos"
   ]
  },
  {
   "cell_type": "code",
   "execution_count": null,
   "id": "d2311847",
   "metadata": {},
   "outputs": [],
   "source": [
    "#cuantas filas y columnas tienen?\n",
    "vino_tinto.shape,vino_blanco.shape"
   ]
  },
  {
   "cell_type": "code",
   "execution_count": null,
   "id": "5f2235f3",
   "metadata": {},
   "outputs": [],
   "source": [
    "#primeros diez registros data set tinto\n",
    "vino_tinto.head(10)\n"
   ]
  },
  {
   "cell_type": "code",
   "execution_count": null,
   "id": "936e7e44",
   "metadata": {},
   "outputs": [],
   "source": [
    "#primeros diez registros data set blanco\n",
    "vino_blanco.head(10)"
   ]
  },
  {
   "cell_type": "code",
   "execution_count": null,
   "id": "5f155332",
   "metadata": {
    "scrolled": true
   },
   "outputs": [],
   "source": [
    "#resumen del dataset: variables,tipo,estadisticos descriptivos,etc\n",
    "vino_tinto.info()\n",
    "vino_tinto.describe()\n"
   ]
  },
  {
   "cell_type": "code",
   "execution_count": null,
   "id": "c1a8b73d",
   "metadata": {
    "scrolled": true
   },
   "outputs": [],
   "source": [
    "vino_blanco.info()\n",
    "vino_blanco.describe()"
   ]
  },
  {
   "attachments": {},
   "cell_type": "markdown",
   "id": "455cfdb4",
   "metadata": {},
   "source": [
    "- Integración y transformación de los datos"
   ]
  },
  {
   "cell_type": "code",
   "execution_count": null,
   "id": "62e31106",
   "metadata": {},
   "outputs": [],
   "source": [
    "# Inclusion variable categoria a cada DataFrame que indica si el vino es rojo (red) o blanco (white). \n",
    "vino_tinto['categoria'] = 'rojo'\n",
    "vino_blanco['categoria'] = 'blanco'\n"
   ]
  },
  {
   "cell_type": "code",
   "execution_count": null,
   "id": "702c6a78",
   "metadata": {},
   "outputs": [],
   "source": [
    "df_vinos = vino_tinto.merge(vino_blanco, how='outer') #full join\n",
    "\n",
    "# Validación\n",
    "filas_esperadas = vino_tinto.shape[0] + vino_blanco.shape[0]\n",
    "columnas_esperadas = vino_tinto.shape[1]\n",
    "filas_df_vinos = df_vinos.shape[0]\n",
    "columnas_df_vinos = df_vinos.shape[1]\n",
    "\n",
    " \n",
    "if filas_df_vinos == filas_esperadas and columnas_df_vinos == columnas_esperadas:\n",
    "    print(\"La unión fue exitosa\")\n",
    "else:\n",
    "    print(\"La unión no se realizó correctamente\")"
   ]
  },
  {
   "cell_type": "code",
   "execution_count": null,
   "id": "bcc630ad",
   "metadata": {},
   "outputs": [],
   "source": [
    "df_vinos\n"
   ]
  },
  {
   "cell_type": "code",
   "execution_count": null,
   "id": "b4d0f954",
   "metadata": {},
   "outputs": [],
   "source": [
    "df_vinos.info()"
   ]
  },
  {
   "cell_type": "code",
   "execution_count": null,
   "id": "b8b02748",
   "metadata": {},
   "outputs": [],
   "source": [
    "nuevos_nombres_col ={\"fixed acidity\":\"acidez_fija\",\n",
    "                    \"volatile acidity\":\"acidez_volatil\",\n",
    "                    \"citric acid\":\"acido_citrico\",\n",
    "                     \"residual sugar\":\"azucar_residual\",\n",
    "                     \"chlorides\":\"cloruros\",\n",
    "                     \"free sulfur dioxide\":\"dioxido_azufre_libre\",\n",
    "                     \"total sulfur dioxide\":\"dioxido_azufre_total\",\n",
    "                     \"density\":\"densidad\",\n",
    "                     \"sulphates\":\"sulfatos\",\n",
    "                     \"quality\":\"calidad\"\n",
    "                    }\n",
    "df_vinos= df_vinos.rename(columns=nuevos_nombres_col)"
   ]
  },
  {
   "cell_type": "code",
   "execution_count": null,
   "id": "5c18b683",
   "metadata": {},
   "outputs": [],
   "source": [
    "#dataset listo para usar\n",
    "df_vinos\n"
   ]
  },
  {
   "attachments": {},
   "cell_type": "markdown",
   "id": "d98d6d37",
   "metadata": {},
   "source": [
    "## 2. Análisis exploratorio de datos"
   ]
  },
  {
   "cell_type": "code",
   "execution_count": null,
   "id": "43d173a5",
   "metadata": {},
   "outputs": [],
   "source": [
    "import seaborn as sns\n",
    "import numpy as np\n",
    "import matplotlib.pyplot as plt"
   ]
  },
  {
   "cell_type": "code",
   "execution_count": null,
   "id": "fa544daf",
   "metadata": {},
   "outputs": [],
   "source": [
    "df_vinos.dtypes"
   ]
  },
  {
   "cell_type": "code",
   "execution_count": null,
   "id": "42c21053",
   "metadata": {},
   "outputs": [],
   "source": [
    "df_vinos.describe()"
   ]
  },
  {
   "cell_type": "code",
   "execution_count": null,
   "id": "933415c2",
   "metadata": {},
   "outputs": [],
   "source": [
    "#Histogramas con respecto a cada una de las variables\n",
    "df_vinos.hist(figsize=(20,20))\n",
    "plt.show()"
   ]
  },
  {
   "cell_type": "code",
   "execution_count": null,
   "id": "ed37a51a",
   "metadata": {},
   "outputs": [],
   "source": [
    "sns.boxplot(df_vinos, x='categoria', y='acidez_fija')\n",
    "plt.show()\n",
    "sns.boxplot(df_vinos, x='categoria', y='acidez_volatil')\n",
    "plt.show()\n",
    "sns.boxplot(df_vinos, x='categoria', y='acido_citrico')\n",
    "plt.show()\n",
    "sns.boxplot(df_vinos, x='categoria', y='azucar_residual')\n",
    "plt.show()\n",
    "sns.boxplot(df_vinos, x='categoria', y='cloruros')\n",
    "plt.show()\n",
    "sns.boxplot(df_vinos, x='categoria', y='dioxido_azufre_libre')\n",
    "plt.show()\n",
    "sns.boxplot(df_vinos, x='categoria', y='dioxido_azufre_total')\n",
    "plt.show()\n",
    "sns.boxplot(df_vinos, x='categoria', y='densidad')\n",
    "plt.show()\n",
    "sns.boxplot(df_vinos, x='categoria', y='pH')\n",
    "plt.show()\n",
    "sns.boxplot(df_vinos, x='categoria', y='sulfatos')\n",
    "plt.show()\n",
    "sns.boxplot(df_vinos, x='categoria', y='alcohol')\n",
    "plt.show()"
   ]
  },
  {
   "cell_type": "code",
   "execution_count": null,
   "id": "049ded40",
   "metadata": {},
   "outputs": [],
   "source": [
    "calidad = df_vinos['calidad']\n",
    "calidad"
   ]
  },
  {
   "cell_type": "code",
   "execution_count": null,
   "id": "947af4b3",
   "metadata": {},
   "outputs": [],
   "source": [
    "cantidad_por_calidad = df_vinos['calidad'].value_counts()\n",
    "cantidad_por_calidad"
   ]
  },
  {
   "cell_type": "code",
   "execution_count": null,
   "id": "202673b9",
   "metadata": {},
   "outputs": [],
   "source": [
    "sns.countplot(data=df_vinos, x='calidad')\n",
    "plt.xlabel('Calidad')\n",
    "plt.ylabel('Count')\n",
    "plt.show()"
   ]
  },
  {
   "cell_type": "code",
   "execution_count": null,
   "id": "c71c8e9b",
   "metadata": {},
   "outputs": [],
   "source": [
    "sns.displot(df_vinos, x=\"calidad\", hue=\"categoria\", kind=\"kde\")\n",
    "plt.show()"
   ]
  },
  {
   "attachments": {},
   "cell_type": "markdown",
   "id": "090ab753",
   "metadata": {},
   "source": [
    "### Otras visualizaciones de interés"
   ]
  },
  {
   "cell_type": "code",
   "execution_count": null,
   "id": "85b6b0a6",
   "metadata": {},
   "outputs": [],
   "source": [
    "# histograma para visualizar la dispersion de una variable\n",
    "sns.histplot(df_vinos, x='pH', hue='categoria')\n",
    "plt.show()"
   ]
  },
  {
   "attachments": {},
   "cell_type": "markdown",
   "id": "6906ac35",
   "metadata": {},
   "source": [
    "De allí, vemos que la distribución del 'pH' de los vinos Blancos está sesgada a la izquierda, mientras que la de los vinos rojos está Centrada."
   ]
  },
  {
   "cell_type": "code",
   "execution_count": null,
   "id": "3c54a061",
   "metadata": {},
   "outputs": [],
   "source": [
    "#scatterplot para visualizar si hay relacion lineal entre las variables\n",
    "sns.scatterplot(df_vinos, x='alcohol', y='pH', hue='categoria')\n",
    "plt.show()"
   ]
  },
  {
   "cell_type": "code",
   "execution_count": null,
   "id": "5f02b4bd",
   "metadata": {},
   "outputs": [],
   "source": [
    "#boxplots para visualizar valores extremos\n",
    "sns.boxplot(df_vinos, x='calidad', y='pH', hue='categoria')\n",
    "plt.show()"
   ]
  },
  {
   "cell_type": "code",
   "execution_count": null,
   "id": "99189eff",
   "metadata": {},
   "outputs": [],
   "source": [
    "sns.pairplot(data=df_vinos, hue='categoria')\n",
    "plt.show()"
   ]
  },
  {
   "cell_type": "code",
   "execution_count": null,
   "id": "72a4b1d8",
   "metadata": {},
   "outputs": [],
   "source": [
    "# matriz de correlacions\n",
    "vinos_corr = df_vinos.corr()\n",
    "vinos_corr"
   ]
  },
  {
   "cell_type": "code",
   "execution_count": null,
   "id": "1680825f",
   "metadata": {},
   "outputs": [],
   "source": [
    "#Gráfico de correlaciones\n",
    "plt.figure(figsize=(10,6))\n",
    "sns.heatmap(vinos_corr, cmap='RdBu_r', annot=True)\n",
    "plt.show()"
   ]
  },
  {
   "attachments": {},
   "cell_type": "markdown",
   "id": "32b3ecaa",
   "metadata": {},
   "source": [
    "# 3. Procesamiento y análisis de datos"
   ]
  },
  {
   "attachments": {},
   "cell_type": "markdown",
   "id": "4ab5c380",
   "metadata": {},
   "source": [
    "Teniendo en cuenta la calidad, podemos definir las categorías de los vinos en 3 segmentos:\n",
    "- Bajo\n",
    "- Medio\n",
    "- Alto\n",
    "\n",
    "Luego aplicamos la categorización y agregamos una nueva columna al dataframe."
   ]
  },
  {
   "cell_type": "code",
   "execution_count": null,
   "id": "e97348e5",
   "metadata": {},
   "outputs": [],
   "source": [
    "df_vinos['categoria_calidad'] = df_vinos['calidad'].apply(lambda x: 'Bajo' if x <= 4 else 'Medio' if 5 <= x <= 7 else 'Alto')\n",
    "df_vinos.head()"
   ]
  },
  {
   "cell_type": "code",
   "execution_count": null,
   "id": "e5797f22",
   "metadata": {},
   "outputs": [],
   "source": [
    "df_vinos.describe(include='object')"
   ]
  },
  {
   "attachments": {},
   "cell_type": "markdown",
   "id": "293f4c08",
   "metadata": {},
   "source": [
    "# 4. Visualización de datos"
   ]
  },
  {
   "cell_type": "code",
   "execution_count": null,
   "id": "9157ac74",
   "metadata": {},
   "outputs": [],
   "source": [
    "# Comparación por calidad entre vino rojo y blanco\n",
    "sns.countplot(df_vinos, x='categoria_calidad', hue='categoria')\n",
    "plt.show()"
   ]
  },
  {
   "attachments": {},
   "cell_type": "markdown",
   "id": "b08eb273",
   "metadata": {},
   "source": [
    "# 5. Comunicación efectiva de resultados"
   ]
  }
 ],
 "metadata": {
  "kernelspec": {
   "display_name": "Python 3 (ipykernel)",
   "language": "python",
   "name": "python3"
  },
  "language_info": {
   "codemirror_mode": {
    "name": "ipython",
    "version": 3
   },
   "file_extension": ".py",
   "mimetype": "text/x-python",
   "name": "python",
   "nbconvert_exporter": "python",
   "pygments_lexer": "ipython3",
   "version": "3.8.16"
  }
 },
 "nbformat": 4,
 "nbformat_minor": 5
}
