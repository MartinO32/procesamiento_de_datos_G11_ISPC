{
 "cells": [
  {
   "cell_type": "markdown",
   "id": "54ac62ae",
   "metadata": {},
   "source": [
    "\n",
    "<div align=\"center\">\n",
    "    <img src=\"image/foto_portada.jpg\" alt=\"Tres personas catando vinos.\" style=\"width: 600px; height: 300px; border-radius: 10px;\">\n",
    "    <h1 style=\"font-family: Arial, sans-serif; font-size: 32px; font-weight: bold; margin-top: 20px; text-align: center;\">Explorando la calidad del vino</h1>\n",
    "    <h2 style=\"font-family: Arial, sans-serif; font-size: 20px; font-weight: normal; text-align: center;\">Una aproximación a través de técnicas de procesamiento de datos</h2>\n",
    "</div>\n"
   ]
  },
  {
   "cell_type": "markdown",
   "id": "5b3d5f1e",
   "metadata": {},
   "source": [
    "<br>El objetivo de este trabajo es establecer, por medio de técnicas de procesamiento de datos, las variables más influyentes en la calidad sensorial del vino.<br> \n",
    "Se analiza una variable dependiente (calidad) y diez variables independientes: acidez volátil, ácido cítrico, azúcar residual, cloruros, dióxido de azufre libre, dióxido de azufre total, densidad, pH, sulfatos, y alcohol.<br>\n",
    "Utilizaremos dos datasets enfocados en la calidad de vinos. Ambos se relacionan a las variantes de vino blanco y vino rojo del vino portugués \"Vinho Verde\".\n",
    "La fuente de de los mismos son del Machine Learning Repository de UCI. Puedes conocer más de ellos [aquí](https://archive.ics.uci.edu/dataset/186/wine+quality)."
   ]
  },
  {
   "cell_type": "markdown",
   "id": "733358c5",
   "metadata": {},
   "source": [
    " # Tareas preliminares: \n",
    " ## limpieza, integración y transformación necesarias para preparar los datos para el análisis"
   ]
  },
  {
   "cell_type": "markdown",
   "id": "2930546e",
   "metadata": {},
   "source": [
    "## carga de datos"
   ]
  },
  {
   "cell_type": "code",
   "execution_count": 2,
   "id": "e6827c85",
   "metadata": {},
   "outputs": [],
   "source": [
    "import pandas as pd\n"
   ]
  },
  {
   "cell_type": "code",
   "execution_count": null,
   "id": "2bbd3670",
   "metadata": {},
   "outputs": [],
   "source": [
    "#importacion\n",
    "tablas = ['winequality-red.csv',\n",
    "          'winequality-white.csv']\n",
    "\n",
    "archivos = []\n",
    "\n",
    "ruta_data = 'data'  # Ruta relativa a la carpeta \"data\"\n",
    "\n",
    "for t in tablas:\n",
    "    ruta_archivo = f'{ruta_data}/{t}'\n",
    "    datos = pd.read_csv(ruta_archivo,\n",
    "                        sep = ';',\n",
    "                        encoding='latin-1',\n",
    "                        low_memory=False)\n",
    "    archivos.append(datos)\n",
    "\n",
    "vino_tinto,vino_blanco = archivos[:2]\n"
   ]
  },
  {
   "cell_type": "markdown",
   "id": "6d7927d2",
   "metadata": {},
   "source": [
    "## exploracion inicial para preparar los datos"
   ]
  },
  {
   "cell_type": "code",
   "execution_count": null,
   "id": "d2311847",
   "metadata": {},
   "outputs": [],
   "source": [
    "#cuantas filas y columnas tienen?\n",
    "vino_tinto.shape,vino_blanco.shape"
   ]
  },
  {
   "cell_type": "code",
   "execution_count": null,
   "id": "5f2235f3",
   "metadata": {},
   "outputs": [],
   "source": [
    "#primeros diez registros data set tinto\n",
    "vino_tinto.head(10)\n",
    "\n",
    "\n",
    "    "
   ]
  },
  {
   "cell_type": "code",
   "execution_count": null,
   "id": "936e7e44",
   "metadata": {},
   "outputs": [],
   "source": [
    "#primeros diez registros data set blanco\n",
    "vino_blanco.head(10)"
   ]
  },
  {
   "cell_type": "code",
   "execution_count": null,
   "id": "5f155332",
   "metadata": {
    "scrolled": true
   },
   "outputs": [],
   "source": [
    "#resumen del dataset: variables,tipo,estadisticosdescriptivos,etc\n",
    "vino_tinto.info()\n",
    "vino_tinto.describe()\n"
   ]
  },
  {
   "cell_type": "code",
   "execution_count": null,
   "id": "c1a8b73d",
   "metadata": {
    "scrolled": true
   },
   "outputs": [],
   "source": [
    "vino_blanco.info()\n",
    "vino_blanco.describe()"
   ]
  },
  {
   "cell_type": "code",
   "execution_count": null,
   "id": "f61bb0c4",
   "metadata": {},
   "outputs": [],
   "source": []
  },
  {
   "cell_type": "markdown",
   "id": "455cfdb4",
   "metadata": {},
   "source": [
    "## integracion y transformacion de los datos"
   ]
  },
  {
   "cell_type": "code",
   "execution_count": null,
   "id": "62e31106",
   "metadata": {},
   "outputs": [],
   "source": [
    "# Inclusion variable categoria a cada DataFrame que indica si el vino es rojo (red) o blanco (white). \n",
    "vino_tinto['categoria'] = 'rojo'\n",
    "vino_blanco['categoria'] = 'blanco'\n"
   ]
  },
  {
   "cell_type": "code",
   "execution_count": null,
   "id": "702c6a78",
   "metadata": {},
   "outputs": [],
   "source": [
    "df_vinos = vino_tinto.merge(vino_blanco, how='outer') #full join\n",
    "\n",
    "# Validación\n",
    "filas_esperadas = vino_tinto.shape[0] + vino_blanco.shape[0]\n",
    "columnas_esperadas = vino_tinto.shape[1]\n",
    "filas_df_vinos = df_vinos.shape[0]\n",
    "columnas_df_vinos = df_vinos.shape[1]\n",
    "\n",
    " \n",
    "if filas_df_vinos == filas_esperadas and columnas_df_vinos == columnas_esperadas:\n",
    "    print(\"La unión fue exitosa\")\n",
    "else:\n",
    "    print(\"La unión no se realizó correctamente\")"
   ]
  },
  {
   "cell_type": "code",
   "execution_count": null,
   "id": "bcc630ad",
   "metadata": {},
   "outputs": [],
   "source": [
    "df_vinos\n"
   ]
  },
  {
   "cell_type": "code",
   "execution_count": null,
   "id": "b4d0f954",
   "metadata": {},
   "outputs": [],
   "source": [
    "df_vinos.info()"
   ]
  },
  {
   "cell_type": "code",
   "execution_count": null,
   "id": "b8b02748",
   "metadata": {},
   "outputs": [],
   "source": [
    "nuevos_nombres_col ={\"fixed acidity\":\"acidez_fija\",\n",
    "                    \"volatile acidity\":\"acidez_volatil\",\n",
    "                    \"citric acid\":\"acido_citrico\",\n",
    "                     \"residual sugar\":\"azucar_residual\",\n",
    "                     \"chlorides\":\"cloruros\",\n",
    "                     \"free sulfur dioxide\":\"dioxido_azufre_libre\",\n",
    "                     \"total sulfur dioxide\":\"dioxido_azufre_total\",\n",
    "                     \"density\":\"densidad\",\n",
    "                     \"sulphates\":\"sulfatos\",\n",
    "                     \"quality\":\"calidad\"\n",
    "                    }\n",
    "df_vinos= df_vinos.rename(columns=nuevos_nombres_col)"
   ]
  },
  {
   "cell_type": "code",
   "execution_count": null,
   "id": "5c18b683",
   "metadata": {},
   "outputs": [],
   "source": [
    "#dataset listo para usar\n",
    "df_vinos\n"
   ]
  },
  {
   "cell_type": "code",
   "execution_count": null,
   "id": "25db816b",
   "metadata": {},
   "outputs": [],
   "source": []
  },
  {
   "cell_type": "code",
   "execution_count": null,
   "id": "d98d6d37",
   "metadata": {},
   "outputs": [],
   "source": []
  }
 ],
 "metadata": {
  "kernelspec": {
   "display_name": "Python 3 (ipykernel)",
   "language": "python",
   "name": "python3"
  },
  "language_info": {
   "codemirror_mode": {
    "name": "ipython",
    "version": 3
   },
   "file_extension": ".py",
   "mimetype": "text/x-python",
   "name": "python",
   "nbconvert_exporter": "python",
   "pygments_lexer": "ipython3",
   "version": "3.11.4"
  }
 },
 "nbformat": 4,
 "nbformat_minor": 5
}
